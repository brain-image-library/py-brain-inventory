{
 "cells": [
  {
   "cell_type": "code",
   "execution_count": null,
   "id": "b121b3d9-a634-422d-ad77-6565a2a193c2",
   "metadata": {},
   "outputs": [],
   "source": [
    "pip install git+https://github.com/brain-image-library/py-brain-inventory.git"
   ]
  },
  {
   "cell_type": "code",
   "execution_count": null,
   "id": "ec311d94-3350-4a60-9418-e934fb65487a",
   "metadata": {},
   "outputs": [],
   "source": [
    "import braininventory"
   ]
  },
  {
   "cell_type": "code",
   "execution_count": null,
   "id": "cd60e1b5-e898-4c20-81fd-61bda774e59c",
   "metadata": {},
   "outputs": [],
   "source": [
    "data = braininventory.get.today()\n",
    "report = braininventory.get.report()\n",
    "report"
   ]
  }
 ],
 "metadata": {
  "kernelspec": {
   "display_name": "Python 3 (ipykernel)",
   "language": "python",
   "name": "python3"
  },
  "language_info": {
   "codemirror_mode": {
    "name": "ipython",
    "version": 3
   },
   "file_extension": ".py",
   "mimetype": "text/x-python",
   "name": "python",
   "nbconvert_exporter": "python",
   "pygments_lexer": "ipython3",
   "version": "3.9.13"
  }
 },
 "nbformat": 4,
 "nbformat_minor": 5
}
