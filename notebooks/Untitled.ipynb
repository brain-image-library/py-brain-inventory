{
 "cells": [
  {
   "cell_type": "code",
   "execution_count": 9,
   "id": "ec311d94-3350-4a60-9418-e934fb65487a",
   "metadata": {},
   "outputs": [],
   "source": [
    "import braininventory"
   ]
  },
  {
   "cell_type": "code",
   "execution_count": 10,
   "id": "cd60e1b5-e898-4c20-81fd-61bda774e59c",
   "metadata": {},
   "outputs": [
    {
     "data": {
      "text/plain": [
       "{'date': '2023-07-07',\n",
       " 'number_of_datasets': 7198,\n",
       " 'completeness_score': 0.997031232284329,\n",
       " 'metadata_version': {1.0: 5755, 2.0: 1443}}"
      ]
     },
     "execution_count": 10,
     "metadata": {},
     "output_type": "execute_result"
    }
   ],
   "source": [
    "data = braininventory.get.today()\n",
    "report = braininventory.get.report()\n",
    "report"
   ]
  },
  {
   "cell_type": "code",
   "execution_count": 11,
   "id": "078104fd-1d0d-4fb9-b170-8fea75802669",
   "metadata": {},
   "outputs": [
    {
     "data": {
      "text/plain": [
       "Index(['score', 'metadata_version', 'dataset_uuid', 'bildirectory', 'exists',\n",
       "       'project', 'is_biccn', 'bil_uuid', 'contributorname', 'affiliation',\n",
       "       'award_number', 'species', 'ncbitaxonomy', 'samplelocalid', 'genotype',\n",
       "       'generalmodality', 'technique', 'locations', 'URL', 'temp_file',\n",
       "       'json_file', 'md5_coverage', 'sha256_coverage'],\n",
       "      dtype='object')"
      ]
     },
     "execution_count": 11,
     "metadata": {},
     "output_type": "execute_result"
    }
   ],
   "source": [
    "data.keys()"
   ]
  },
  {
   "cell_type": "code",
   "execution_count": 12,
   "id": "e0b560fa-fdeb-44af-9653-ecd28f29cef1",
   "metadata": {},
   "outputs": [
    {
     "data": {
      "text/plain": [
       "0       https://download.brainimagelibrary.org/f1/60/f...\n",
       "1       https://download.brainimagelibrary.org/90/a9/9...\n",
       "2       https://download.brainimagelibrary.org/dd/90/d...\n",
       "3       https://download.brainimagelibrary.org/9a/ae/9...\n",
       "4       https://download.brainimagelibrary.org/9a/ae/9...\n",
       "                              ...                        \n",
       "7193    https://download.brainimagelibrary.org/84/d8/8...\n",
       "7194    https://download.brainimagelibrary.org/77/72/7...\n",
       "7195    https://download.brainimagelibrary.org/dd/c8/d...\n",
       "7196    https://download.brainimagelibrary.org/6e/38/6...\n",
       "7197    https://download.brainimagelibrary.org/01/fc/0...\n",
       "Name: URL, Length: 7198, dtype: object"
      ]
     },
     "execution_count": 12,
     "metadata": {},
     "output_type": "execute_result"
    }
   ],
   "source": [
    "data['URL']"
   ]
  },
  {
   "cell_type": "code",
   "execution_count": null,
   "id": "596642ad-c204-41fd-b6c8-93e3dc53fd04",
   "metadata": {},
   "outputs": [],
   "source": []
  }
 ],
 "metadata": {
  "kernelspec": {
   "display_name": "Python 3",
   "language": "python",
   "name": "python3"
  },
  "language_info": {
   "codemirror_mode": {
    "name": "ipython",
    "version": 3
   },
   "file_extension": ".py",
   "mimetype": "text/x-python",
   "name": "python",
   "nbconvert_exporter": "python",
   "pygments_lexer": "ipython3",
   "version": "3.8.8"
  }
 },
 "nbformat": 4,
 "nbformat_minor": 5
}
